{
 "cells": [
  {
   "cell_type": "code",
   "execution_count": 1,
   "id": "c93991ae",
   "metadata": {},
   "outputs": [],
   "source": [
    "import tensorflow as tf\n",
    "import numpy as np\n",
    "from PIL import Image\n",
    "import os"
   ]
  },
  {
   "cell_type": "code",
   "execution_count": 2,
   "id": "a4885e2f",
   "metadata": {},
   "outputs": [
    {
     "name": "stdout",
     "output_type": "stream",
     "text": [
      "1/1 [==============================] - 0s 158ms/step\n",
      "Prediction: Normal, Confidence: 0.8764\n"
     ]
    }
   ],
   "source": [
    "os.environ['TF_ENABLE_ONEDNN_OPTS'] = '0'\n",
    "tf.config.threading.set_inter_op_parallelism_threads(1)\n",
    "tf.config.threading.set_intra_op_parallelism_threads(1)\n",
    "\n",
    "def test_image(image_path, model_path=r'C:\\Users\\nayer\\pneumonia-detection\\models\\cnn_augmented_model.h5'):\n",
    "    model = tf.keras.models.load_model(model_path)\n",
    "    img = Image.open(image_path).resize((224, 224)).convert('RGB')\n",
    "    img_array = np.array(img) / 255.0\n",
    "    img_array = np.expand_dims(img_array, axis=0)\n",
    "    prediction = model.predict(img_array)[0][0]\n",
    "    label = \"Pneumonia\" if prediction > 0.5 else \"Normal\"\n",
    "    confidence = prediction if label == \"Pneumonia\" else 1 - prediction\n",
    "    return {\"label\": label, \"confidence\": float(confidence)}\n",
    "\n",
    "if __name__ == \"__main__\":\n",
    "    test_image_path = r'C:\\Users\\nayer\\pneumonia-detection\\data\\chest_xray\\test\\NORMAL\\IM-0001-0001.jpeg'\n",
    "    result = test_image(image_path=test_image_path)\n",
    "    print(f\"Prediction: {result['label']}, Confidence: {result['confidence']:.4f}\")"
   ]
  }
 ],
 "metadata": {
  "kernelspec": {
   "display_name": "pneumonia_new",
   "language": "python",
   "name": "python3"
  },
  "language_info": {
   "codemirror_mode": {
    "name": "ipython",
    "version": 3
   },
   "file_extension": ".py",
   "mimetype": "text/x-python",
   "name": "python",
   "nbconvert_exporter": "python",
   "pygments_lexer": "ipython3",
   "version": "3.8.20"
  }
 },
 "nbformat": 4,
 "nbformat_minor": 5
}
